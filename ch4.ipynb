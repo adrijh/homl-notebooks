{
 "cells": [
  {
   "cell_type": "markdown",
   "metadata": {},
   "source": [
    "# Softmax Batch Gradient Descent"
   ]
  },
  {
   "cell_type": "code",
   "execution_count": 2,
   "metadata": {},
   "outputs": [],
   "source": [
    "import pandas as pd\n",
    "import numpy as np\n",
    "import matplotlib.pyplot as plt\n",
    "from sklearn import datasets"
   ]
  },
  {
   "cell_type": "code",
   "execution_count": 3,
   "metadata": {},
   "outputs": [
    {
     "name": "stdout",
     "output_type": "stream",
     "text": [
      "Keys:  ['data', 'target', 'frame', 'target_names', 'DESCR', 'feature_names', 'filename']\n"
     ]
    }
   ],
   "source": [
    "iris = datasets.load_iris()\n",
    "print('Keys: ',list(iris.keys()))"
   ]
  },
  {
   "cell_type": "code",
   "execution_count": 4,
   "metadata": {},
   "outputs": [],
   "source": [
    "X = iris['data']\n",
    "y = iris['target']\n",
    "ones = np.ones((X.shape[0],1))\n",
    "X = np.concatenate((ones,X), axis=1) #150x5"
   ]
  },
  {
   "cell_type": "code",
   "execution_count": 6,
   "metadata": {},
   "outputs": [],
   "source": [
    "## HotEncode y\n",
    "def hotenc(M):\n",
    "    M_h = np.zeros((M.shape[0],3))\n",
    "    for i in range(M_h.shape[0]):\n",
    "        if M[i] == 0:\n",
    "            M_h[i,0] = 1\n",
    "        if M[i] == 1:\n",
    "            M_h[i,1] = 1\n",
    "        if M[i] == 2:\n",
    "            M_h[i,2] = 1\n",
    "    return M_h"
   ]
  },
  {
   "cell_type": "code",
   "execution_count": 7,
   "metadata": {},
   "outputs": [],
   "source": [
    "y_h = hotenc(y)"
   ]
  },
  {
   "cell_type": "code",
   "execution_count": 8,
   "metadata": {},
   "outputs": [],
   "source": [
    "def smp(X,Theta):\n",
    "    s = X @ Theta\n",
    "    exp1 = np.exp(s)\n",
    "    exp2 = exp1.sum(axis=1)\n",
    "    exp3 = np.stack((exp2,exp2,exp2),axis=1)\n",
    "    return exp1/exp3"
   ]
  },
  {
   "cell_type": "code",
   "execution_count": 121,
   "metadata": {},
   "outputs": [],
   "source": [
    "m = X.shape[0]\n",
    "n = 1000\n",
    "alpha = 0.1\n",
    "Theta = np.random.randn(X.shape[1],3) #5x3\n",
    "\n",
    "for i in range(n):\n",
    "    \n",
    "    p = smp(X,Theta)\n",
    "    A = y_h *np.log(p)\n",
    "    B = A.sum(axis=1)\n",
    "    J= -(1/m)*sum(B)\n",
    "    GJ = (1/m)* ((p-y_h).T @ X)\n",
    "    Theta = Theta - alpha* GJ.T"
   ]
  },
  {
   "cell_type": "markdown",
   "metadata": {},
   "source": [
    "### TO DO: EARLY STOPPING"
   ]
  },
  {
   "cell_type": "code",
   "execution_count": 122,
   "metadata": {},
   "outputs": [],
   "source": [
    "p = smp(X,Theta)"
   ]
  },
  {
   "cell_type": "code",
   "execution_count": 123,
   "metadata": {},
   "outputs": [],
   "source": [
    "y_pred = np.argmax(p,axis=1)"
   ]
  },
  {
   "cell_type": "code",
   "execution_count": 124,
   "metadata": {},
   "outputs": [
    {
     "name": "stdout",
     "output_type": "stream",
     "text": [
      "3\n"
     ]
    }
   ],
   "source": [
    "errors = sum(y != y_pred)\n",
    "print(errors)"
   ]
  },
  {
   "cell_type": "code",
   "execution_count": null,
   "metadata": {},
   "outputs": [],
   "source": []
  }
 ],
 "metadata": {
  "kernelspec": {
   "display_name": "Python 3",
   "language": "python",
   "name": "python3"
  },
  "language_info": {
   "codemirror_mode": {
    "name": "ipython",
    "version": 3
   },
   "file_extension": ".py",
   "mimetype": "text/x-python",
   "name": "python",
   "nbconvert_exporter": "python",
   "pygments_lexer": "ipython3",
   "version": "3.8.5"
  }
 },
 "nbformat": 4,
 "nbformat_minor": 4
}
