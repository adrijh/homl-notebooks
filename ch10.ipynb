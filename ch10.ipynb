{
 "cells": [
  {
   "cell_type": "markdown",
   "metadata": {},
   "source": [
    "### Building an Image Classifier Using the Sequential API"
   ]
  },
  {
   "cell_type": "code",
   "execution_count": 1,
   "metadata": {},
   "outputs": [],
   "source": [
    "import tensorflow as tf\n",
    "from tensorflow import keras\n",
    "import numpy as np\n",
    "\n",
    "fashion_mnist = keras.datasets.fashion_mnist\n",
    "(X_train_full, y_train_full), (X_test, y_test) = fashion_mnist.load_data()"
   ]
  },
  {
   "cell_type": "code",
   "execution_count": 2,
   "metadata": {},
   "outputs": [],
   "source": [
    "X_valid, X_train = X_train_full[:5000] / 255.0, X_train_full[5000:] /255.0\n",
    "y_valid, y_train = y_train_full[:5000] , y_train_full[5000:]"
   ]
  },
  {
   "cell_type": "code",
   "execution_count": 3,
   "metadata": {},
   "outputs": [],
   "source": [
    "class_names = [\"T-shirt/top\", \"Trouser\", \"Pullover\", \"Dress\", \"Coat\",\n",
    "               \"Sandal\", \"Shirt\", \"Sneaker\", \"Bag\", \"Ankle boot\"]"
   ]
  },
  {
   "cell_type": "markdown",
   "metadata": {},
   "source": [
    "Let's build the neural network"
   ]
  },
  {
   "cell_type": "code",
   "execution_count": 4,
   "metadata": {},
   "outputs": [],
   "source": [
    "model = keras.models.Sequential()\n",
    "model.add(keras.layers.Flatten(input_shape=[28,28]))\n",
    "model.add(keras.layers.Dense(300, activation=\"relu\"))\n",
    "model.add(keras.layers.Dense(100, activation=\"relu\"))\n",
    "model.add(keras.layers.Dense(10, activation=\"softmax\"))\n",
    "\n",
    "## Alternative way to do it:\n",
    "\n",
    "# model = keras.models.Sequential([\n",
    "#     keras.layers.Flatten(input_shape=[28, 28]),\n",
    "#     keras.layers.Dense(300, activation=\"relu\"),\n",
    "#     keras.layers.Dense(100, activation=\"relu\"),\n",
    "#     keras.layers.Dense(10, activation=\"softmax\")\n",
    "# ])"
   ]
  },
  {
   "cell_type": "markdown",
   "metadata": {},
   "source": [
    "These are some of the model methods:"
   ]
  },
  {
   "cell_type": "code",
   "execution_count": 5,
   "metadata": {},
   "outputs": [
    {
     "name": "stdout",
     "output_type": "stream",
     "text": [
      "Model: \"sequential\"\n",
      "_________________________________________________________________\n",
      "Layer (type)                 Output Shape              Param #   \n",
      "=================================================================\n",
      "flatten (Flatten)            (None, 784)               0         \n",
      "_________________________________________________________________\n",
      "dense (Dense)                (None, 300)               235500    \n",
      "_________________________________________________________________\n",
      "dense_1 (Dense)              (None, 100)               30100     \n",
      "_________________________________________________________________\n",
      "dense_2 (Dense)              (None, 10)                1010      \n",
      "=================================================================\n",
      "Total params: 266,610\n",
      "Trainable params: 266,610\n",
      "Non-trainable params: 0\n",
      "_________________________________________________________________\n"
     ]
    }
   ],
   "source": [
    "model.summary()"
   ]
  },
  {
   "cell_type": "code",
   "execution_count": 6,
   "metadata": {},
   "outputs": [
    {
     "data": {
      "text/plain": [
       "[<tensorflow.python.keras.layers.core.Flatten at 0x7fe6897c5f10>,\n",
       " <tensorflow.python.keras.layers.core.Dense at 0x7fe66f5a6460>,\n",
       " <tensorflow.python.keras.layers.core.Dense at 0x7fe66c591df0>,\n",
       " <tensorflow.python.keras.layers.core.Dense at 0x7fe66c591c70>]"
      ]
     },
     "execution_count": 6,
     "metadata": {},
     "output_type": "execute_result"
    }
   ],
   "source": [
    "model.layers"
   ]
  },
  {
   "cell_type": "code",
   "execution_count": 7,
   "metadata": {},
   "outputs": [
    {
     "data": {
      "text/plain": [
       "'dense'"
      ]
     },
     "execution_count": 7,
     "metadata": {},
     "output_type": "execute_result"
    }
   ],
   "source": [
    "hidden1 = model.layers[1]\n",
    "hidden1.name"
   ]
  },
  {
   "cell_type": "code",
   "execution_count": 8,
   "metadata": {},
   "outputs": [
    {
     "data": {
      "text/plain": [
       "True"
      ]
     },
     "execution_count": 8,
     "metadata": {},
     "output_type": "execute_result"
    }
   ],
   "source": [
    "model.get_layer('dense') is hidden1"
   ]
  },
  {
   "cell_type": "code",
   "execution_count": 9,
   "metadata": {},
   "outputs": [
    {
     "data": {
      "text/plain": [
       "array([[ 0.06997457,  0.00503626, -0.0120313 , ..., -0.01850743,\n",
       "         0.01438673,  0.00904734],\n",
       "       [ 0.05782476,  0.00510928, -0.0012336 , ...,  0.04284978,\n",
       "         0.06426327,  0.07169861],\n",
       "       [-0.01166725, -0.02677018,  0.00475802, ...,  0.03754696,\n",
       "        -0.04634653, -0.00237418],\n",
       "       ...,\n",
       "       [-0.02262454, -0.01332553, -0.01885834, ...,  0.03205212,\n",
       "        -0.03530096, -0.04168138],\n",
       "       [-0.03289982, -0.04897187,  0.03374602, ..., -0.0426114 ,\n",
       "        -0.009567  ,  0.01158502],\n",
       "       [ 0.00964224, -0.01821639, -0.01011404, ..., -0.05440677,\n",
       "         0.01221596, -0.06403889]], dtype=float32)"
      ]
     },
     "execution_count": 9,
     "metadata": {},
     "output_type": "execute_result"
    }
   ],
   "source": [
    "weights, biases = hidden1.get_weights()\n",
    "weights"
   ]
  },
  {
   "cell_type": "markdown",
   "metadata": {},
   "source": [
    "After the model is created we need to compile it specifying the loss function and optimizer"
   ]
  },
  {
   "cell_type": "code",
   "execution_count": 10,
   "metadata": {},
   "outputs": [],
   "source": [
    "model.compile(loss=\"sparse_categorical_crossentropy\",optimizer=\"sgd\",metrics=[\"accuracy\"])"
   ]
  },
  {
   "cell_type": "code",
   "execution_count": 11,
   "metadata": {},
   "outputs": [
    {
     "name": "stdout",
     "output_type": "stream",
     "text": [
      "Epoch 1/30\n",
      "1719/1719 [==============================] - 3s 2ms/step - loss: 0.9788 - accuracy: 0.6855 - val_loss: 0.5139 - val_accuracy: 0.8248\n",
      "Epoch 2/30\n",
      "1719/1719 [==============================] - 3s 2ms/step - loss: 0.5027 - accuracy: 0.8257 - val_loss: 0.4369 - val_accuracy: 0.8544\n",
      "Epoch 3/30\n",
      "1719/1719 [==============================] - 2s 1ms/step - loss: 0.4510 - accuracy: 0.8428 - val_loss: 0.4369 - val_accuracy: 0.8532\n",
      "Epoch 4/30\n",
      "1719/1719 [==============================] - 2s 1ms/step - loss: 0.4184 - accuracy: 0.8519 - val_loss: 0.3955 - val_accuracy: 0.8640\n",
      "Epoch 5/30\n",
      "1719/1719 [==============================] - 3s 2ms/step - loss: 0.4032 - accuracy: 0.8585 - val_loss: 0.3798 - val_accuracy: 0.8694\n",
      "Epoch 6/30\n",
      "1719/1719 [==============================] - 2s 1ms/step - loss: 0.3847 - accuracy: 0.8650 - val_loss: 0.3810 - val_accuracy: 0.8690\n",
      "Epoch 7/30\n",
      "1719/1719 [==============================] - 2s 1ms/step - loss: 0.3630 - accuracy: 0.8723 - val_loss: 0.3785 - val_accuracy: 0.8660\n",
      "Epoch 8/30\n",
      "1719/1719 [==============================] - 3s 2ms/step - loss: 0.3626 - accuracy: 0.8723 - val_loss: 0.3735 - val_accuracy: 0.8684\n",
      "Epoch 9/30\n",
      "1719/1719 [==============================] - 3s 2ms/step - loss: 0.3437 - accuracy: 0.8763 - val_loss: 0.3504 - val_accuracy: 0.8780\n",
      "Epoch 10/30\n",
      "1719/1719 [==============================] - 2s 1ms/step - loss: 0.3359 - accuracy: 0.8798 - val_loss: 0.3413 - val_accuracy: 0.8794\n",
      "Epoch 11/30\n",
      "1719/1719 [==============================] - 2s 1ms/step - loss: 0.3305 - accuracy: 0.8833 - val_loss: 0.3468 - val_accuracy: 0.8802\n",
      "Epoch 12/30\n",
      "1719/1719 [==============================] - 2s 1ms/step - loss: 0.3220 - accuracy: 0.8844 - val_loss: 0.3641 - val_accuracy: 0.8632\n",
      "Epoch 13/30\n",
      "1719/1719 [==============================] - 2s 1ms/step - loss: 0.3123 - accuracy: 0.8881 - val_loss: 0.3366 - val_accuracy: 0.8830\n",
      "Epoch 14/30\n",
      "1719/1719 [==============================] - 2s 1ms/step - loss: 0.3041 - accuracy: 0.8918 - val_loss: 0.3390 - val_accuracy: 0.8766\n",
      "Epoch 15/30\n",
      "1719/1719 [==============================] - 3s 1ms/step - loss: 0.2974 - accuracy: 0.8941 - val_loss: 0.3264 - val_accuracy: 0.8858\n",
      "Epoch 16/30\n",
      "1719/1719 [==============================] - 3s 2ms/step - loss: 0.2898 - accuracy: 0.8969 - val_loss: 0.3113 - val_accuracy: 0.8860\n",
      "Epoch 17/30\n",
      "1719/1719 [==============================] - 2s 1ms/step - loss: 0.2804 - accuracy: 0.8995 - val_loss: 0.3244 - val_accuracy: 0.8808\n",
      "Epoch 18/30\n",
      "1719/1719 [==============================] - 2s 1ms/step - loss: 0.2755 - accuracy: 0.9004 - val_loss: 0.3066 - val_accuracy: 0.8876\n",
      "Epoch 19/30\n",
      "1719/1719 [==============================] - 3s 1ms/step - loss: 0.2750 - accuracy: 0.8995 - val_loss: 0.3294 - val_accuracy: 0.8840\n",
      "Epoch 20/30\n",
      "1719/1719 [==============================] - 2s 1ms/step - loss: 0.2674 - accuracy: 0.9040 - val_loss: 0.3066 - val_accuracy: 0.8918\n",
      "Epoch 21/30\n",
      "1719/1719 [==============================] - 3s 1ms/step - loss: 0.2630 - accuracy: 0.9057 - val_loss: 0.3020 - val_accuracy: 0.8916\n",
      "Epoch 22/30\n",
      "1719/1719 [==============================] - 3s 1ms/step - loss: 0.2558 - accuracy: 0.9078 - val_loss: 0.3141 - val_accuracy: 0.8852\n",
      "Epoch 23/30\n",
      "1719/1719 [==============================] - 2s 1ms/step - loss: 0.2531 - accuracy: 0.9078 - val_loss: 0.3011 - val_accuracy: 0.8932\n",
      "Epoch 24/30\n",
      "1719/1719 [==============================] - 2s 1ms/step - loss: 0.2489 - accuracy: 0.9095 - val_loss: 0.2921 - val_accuracy: 0.8984\n",
      "Epoch 25/30\n",
      "1719/1719 [==============================] - 2s 1ms/step - loss: 0.2433 - accuracy: 0.9107 - val_loss: 0.3041 - val_accuracy: 0.8890\n",
      "Epoch 26/30\n",
      "1719/1719 [==============================] - 2s 1ms/step - loss: 0.2401 - accuracy: 0.9148 - val_loss: 0.3118 - val_accuracy: 0.8880\n",
      "Epoch 27/30\n",
      "1719/1719 [==============================] - 2s 1ms/step - loss: 0.2336 - accuracy: 0.9160 - val_loss: 0.2965 - val_accuracy: 0.8932\n",
      "Epoch 28/30\n",
      "1719/1719 [==============================] - 2s 1ms/step - loss: 0.2319 - accuracy: 0.9170 - val_loss: 0.2908 - val_accuracy: 0.8962\n",
      "Epoch 29/30\n",
      "1719/1719 [==============================] - 2s 1ms/step - loss: 0.2293 - accuracy: 0.9167 - val_loss: 0.3352 - val_accuracy: 0.8814\n",
      "Epoch 30/30\n",
      "1719/1719 [==============================] - 2s 1ms/step - loss: 0.2239 - accuracy: 0.9201 - val_loss: 0.2920 - val_accuracy: 0.8964\n"
     ]
    }
   ],
   "source": [
    "history = model.fit(X_train, y_train, epochs=30, validation_data=(X_valid,y_valid))"
   ]
  },
  {
   "cell_type": "code",
   "execution_count": 12,
   "metadata": {},
   "outputs": [
    {
     "data": {
      "image/png": "[encoded data removed]",
      "text/plain": [
       "<Figure size 576x360 with 1 Axes>"
      ]
     },
     "metadata": {
      "needs_background": "light"
     },
     "output_type": "display_data"
    }
   ],
   "source": [
    "import pandas as pd\n",
    "import matplotlib.pyplot as plt\n",
    "\n",
    "pd.DataFrame(history.history).plot(figsize=(8,5))\n",
    "plt.grid(True)\n",
    "plt.gca().set_ylim(0,1)\n",
    "plt.show()"
   ]
  },
  {
   "cell_type": "code",
   "execution_count": 13,
   "metadata": {},
   "outputs": [
    {
     "name": "stdout",
     "output_type": "stream",
     "text": [
      "313/313 [==============================] - 0s 1ms/step - loss: 58.5478 - accuracy: 0.8608\n"
     ]
    },
    {
     "data": {
      "text/plain": [
       "[58.54775619506836, 0.86080002784729]"
      ]
     },
     "execution_count": 13,
     "metadata": {},
     "output_type": "execute_result"
    }
   ],
   "source": [
    "model.evaluate(X_test, y_test)"
   ]
  },
  {
   "cell_type": "code",
   "execution_count": 14,
   "metadata": {},
   "outputs": [
    {
     "data": {
      "text/plain": [
       "array([[0., 0., 0., 0., 0., 0., 0., 0., 0., 1.],\n",
       "       [0., 0., 1., 0., 0., 0., 0., 0., 0., 0.],\n",
       "       [0., 1., 0., 0., 0., 0., 0., 0., 0., 0.]], dtype=float32)"
      ]
     },
     "execution_count": 14,
     "metadata": {},
     "output_type": "execute_result"
    }
   ],
   "source": [
    "X_new = X_test[:3]\n",
    "y_proba = model.predict(X_new)\n",
    "y_proba"
   ]
  },
  {
   "cell_type": "code",
   "execution_count": 15,
   "metadata": {},
   "outputs": [
    {
     "data": {
      "text/plain": [
       "<matplotlib.image.AxesImage at 0x7fe63a78ab50>"
      ]
     },
     "execution_count": 15,
     "metadata": {},
     "output_type": "execute_result"
    },
    {
     "data": {
      "image/png": "[encoded data removed]",
      "text/plain": [
       "<Figure size 432x288 with 1 Axes>"
      ]
     },
     "metadata": {
      "needs_background": "light"
     },
     "output_type": "display_data"
    }
   ],
   "source": [
    "plt.imshow(X_new[2].reshape((28,28)),cmap='binary')"
   ]
  },
  {
   "cell_type": "code",
   "execution_count": 16,
   "metadata": {},
   "outputs": [
    {
     "data": {
      "text/plain": [
       "'Trouser'"
      ]
     },
     "execution_count": 16,
     "metadata": {},
     "output_type": "execute_result"
    }
   ],
   "source": [
    "class_names[np.argmax(y_proba[2])]"
   ]
  },
  {
   "cell_type": "markdown",
   "metadata": {},
   "source": [
    "### Building a Regression MLP Using the Sequential API"
   ]
  },
  {
   "cell_type": "code",
   "execution_count": 17,
   "metadata": {},
   "outputs": [],
   "source": [
    "from sklearn.datasets import fetch_california_housing\n",
    "from sklearn.model_selection import train_test_split\n",
    "from sklearn.preprocessing import StandardScaler\n",
    "\n",
    "housing = fetch_california_housing()"
   ]
  },
  {
   "cell_type": "code",
   "execution_count": 18,
   "metadata": {},
   "outputs": [],
   "source": [
    "X_train_full, X_test, y_train_full, y_test = train_test_split(housing.data, housing.target)\n",
    "X_train, X_valid, y_train, y_valid = train_test_split(X_train_full, y_train_full)"
   ]
  },
  {
   "cell_type": "code",
   "execution_count": 19,
   "metadata": {},
   "outputs": [],
   "source": [
    "scaler = StandardScaler()\n",
    "X_train = scaler.fit_transform(X_train)\n",
    "X_valid = scaler.transform(X_valid)\n",
    "X_test = scaler.transform(X_test)"
   ]
  },
  {
   "cell_type": "code",
   "execution_count": 20,
   "metadata": {},
   "outputs": [
    {
     "name": "stdout",
     "output_type": "stream",
     "text": [
      "Epoch 1/20\n",
      "363/363 [==============================] - 1s 864us/step - loss: 4.6045 - val_loss: 0.5100\n",
      "Epoch 2/20\n",
      "363/363 [==============================] - 0s 634us/step - loss: 0.5221 - val_loss: 0.4220\n",
      "Epoch 3/20\n",
      "363/363 [==============================] - 0s 660us/step - loss: 0.4602 - val_loss: 0.4085\n",
      "Epoch 4/20\n",
      "363/363 [==============================] - 0s 650us/step - loss: 0.4253 - val_loss: 0.4102\n",
      "Epoch 5/20\n",
      "363/363 [==============================] - 0s 642us/step - loss: 0.4334 - val_loss: 0.3874\n",
      "Epoch 6/20\n",
      "363/363 [==============================] - 0s 643us/step - loss: 0.3989 - val_loss: 0.3871\n",
      "Epoch 7/20\n",
      "363/363 [==============================] - 0s 637us/step - loss: 0.3988 - val_loss: 0.3856\n",
      "Epoch 8/20\n",
      "363/363 [==============================] - 0s 642us/step - loss: 0.4027 - val_loss: 0.3843\n",
      "Epoch 9/20\n",
      "363/363 [==============================] - 0s 647us/step - loss: 0.3944 - val_loss: 0.3781\n",
      "Epoch 10/20\n",
      "363/363 [==============================] - 0s 636us/step - loss: 0.3964 - val_loss: 0.3695\n",
      "Epoch 11/20\n",
      "363/363 [==============================] - 0s 654us/step - loss: 0.3888 - val_loss: 0.3713\n",
      "Epoch 12/20\n",
      "363/363 [==============================] - 0s 649us/step - loss: 0.3840 - val_loss: 0.3689\n",
      "Epoch 13/20\n",
      "363/363 [==============================] - 0s 647us/step - loss: 0.3887 - val_loss: 0.3763\n",
      "Epoch 14/20\n",
      "363/363 [==============================] - 0s 631us/step - loss: 0.3743 - val_loss: 0.3834\n",
      "Epoch 15/20\n",
      "363/363 [==============================] - 0s 640us/step - loss: 0.3840 - val_loss: 0.3739\n",
      "Epoch 16/20\n",
      "363/363 [==============================] - 0s 644us/step - loss: 0.3812 - val_loss: 0.3621\n",
      "Epoch 17/20\n",
      "363/363 [==============================] - 0s 681us/step - loss: 0.3809 - val_loss: 0.3644\n",
      "Epoch 18/20\n",
      "363/363 [==============================] - 0s 662us/step - loss: 0.3843 - val_loss: 0.3593\n",
      "Epoch 19/20\n",
      "363/363 [==============================] - 0s 639us/step - loss: 0.3503 - val_loss: 0.3544\n",
      "Epoch 20/20\n",
      "363/363 [==============================] - 0s 645us/step - loss: 0.3484 - val_loss: 0.3552\n"
     ]
    }
   ],
   "source": [
    "model = keras.models.Sequential([\n",
    "    keras.layers.Dense(30,activation=\"relu\",input_shape=X_train.shape[1:]),\n",
    "    keras.layers.Dense(1)\n",
    "])\n",
    "\n",
    "model.compile(loss=\"mean_squared_error\", optimizer=\"sgd\")\n",
    "history = model.fit(X_train,y_train,epochs=20,validation_data=(X_valid,y_valid))"
   ]
  },
  {
   "cell_type": "code",
   "execution_count": 21,
   "metadata": {},
   "outputs": [
    {
     "name": "stdout",
     "output_type": "stream",
     "text": [
      "162/162 [==============================] - 0s 470us/step - loss: 0.3610\n"
     ]
    }
   ],
   "source": [
    "mse_test = model.evaluate(X_test, y_test)"
   ]
  },
  {
   "cell_type": "code",
   "execution_count": 22,
   "metadata": {},
   "outputs": [],
   "source": [
    "X_new = X_test[:3]\n",
    "y_pred = model.predict(X_new)"
   ]
  },
  {
   "cell_type": "code",
   "execution_count": 23,
   "metadata": {},
   "outputs": [],
   "source": [
    "import os\n",
    "\n",
    "root_logdir = os.path.join(os.curdir, \"my_logs\")\n",
    "\n",
    "def get_run_logdir():\n",
    "    import time\n",
    "    run_id = time.strftime(\"run_%Y_%m_%d-%H_%M_%S\")\n",
    "    return os.path.join(root_logdir, run_id)\n",
    "\n",
    "run_logdir = get_run_logdir()"
   ]
  },
  {
   "cell_type": "code",
   "execution_count": 24,
   "metadata": {},
   "outputs": [
    {
     "name": "stdout",
     "output_type": "stream",
     "text": [
      "Epoch 1/30\n",
      "363/363 [==============================] - 0s 828us/step - loss: 0.3702 - val_loss: 0.3542\n",
      "Epoch 2/30\n",
      "363/363 [==============================] - 0s 651us/step - loss: 0.3689 - val_loss: 0.3537\n",
      "Epoch 3/30\n",
      "363/363 [==============================] - 0s 662us/step - loss: 0.3696 - val_loss: 0.3476\n",
      "Epoch 4/30\n",
      "363/363 [==============================] - 0s 657us/step - loss: 0.3666 - val_loss: 0.3420\n",
      "Epoch 5/30\n",
      "363/363 [==============================] - 0s 651us/step - loss: 0.3620 - val_loss: 0.3542\n",
      "Epoch 6/30\n",
      "363/363 [==============================] - 0s 679us/step - loss: 0.3615 - val_loss: 0.3456\n",
      "Epoch 7/30\n",
      "363/363 [==============================] - 0s 626us/step - loss: 0.3602 - val_loss: 0.3402\n",
      "Epoch 8/30\n",
      "363/363 [==============================] - 0s 827us/step - loss: 0.3618 - val_loss: 0.3372\n",
      "Epoch 9/30\n",
      "363/363 [==============================] - 0s 861us/step - loss: 0.3626 - val_loss: 0.3379\n",
      "Epoch 10/30\n",
      "363/363 [==============================] - 0s 726us/step - loss: 0.3579 - val_loss: 0.3359\n",
      "Epoch 11/30\n",
      "363/363 [==============================] - 0s 647us/step - loss: 0.3561 - val_loss: 0.3364\n",
      "Epoch 12/30\n",
      "363/363 [==============================] - 0s 647us/step - loss: 0.3549 - val_loss: 0.3386\n",
      "Epoch 13/30\n",
      "363/363 [==============================] - 0s 632us/step - loss: 0.3544 - val_loss: 0.3362\n",
      "Epoch 14/30\n",
      "363/363 [==============================] - 0s 634us/step - loss: 0.3523 - val_loss: 0.3429\n",
      "Epoch 15/30\n",
      "363/363 [==============================] - 0s 632us/step - loss: 0.3521 - val_loss: 0.3363\n",
      "Epoch 16/30\n",
      "363/363 [==============================] - 0s 640us/step - loss: 0.3531 - val_loss: 0.3664\n",
      "Epoch 17/30\n",
      "363/363 [==============================] - 0s 734us/step - loss: 0.3506 - val_loss: 0.3371\n",
      "Epoch 18/30\n",
      "363/363 [==============================] - 0s 637us/step - loss: 0.3497 - val_loss: 0.3327\n",
      "Epoch 19/30\n",
      "363/363 [==============================] - 0s 640us/step - loss: 0.3509 - val_loss: 0.3411\n",
      "Epoch 20/30\n",
      "363/363 [==============================] - 0s 674us/step - loss: 0.3493 - val_loss: 0.3464\n",
      "Epoch 21/30\n",
      "363/363 [==============================] - 0s 875us/step - loss: 0.3518 - val_loss: 0.3602\n",
      "Epoch 22/30\n",
      "363/363 [==============================] - 0s 648us/step - loss: 0.3460 - val_loss: 0.3330\n",
      "Epoch 23/30\n",
      "363/363 [==============================] - 0s 650us/step - loss: 0.3682 - val_loss: 0.6063\n",
      "Epoch 24/30\n",
      "363/363 [==============================] - 0s 685us/step - loss: 0.3733 - val_loss: 0.3441\n",
      "Epoch 25/30\n",
      "363/363 [==============================] - 0s 831us/step - loss: 0.3510 - val_loss: 0.3396\n",
      "Epoch 26/30\n",
      "363/363 [==============================] - 0s 750us/step - loss: 0.3481 - val_loss: 0.3299\n",
      "Epoch 27/30\n",
      "363/363 [==============================] - 0s 971us/step - loss: 0.3442 - val_loss: 0.3307\n",
      "Epoch 28/30\n",
      "363/363 [==============================] - 0s 728us/step - loss: 0.3467 - val_loss: 0.3329\n",
      "Epoch 29/30\n",
      "363/363 [==============================] - 0s 646us/step - loss: 0.3452 - val_loss: 0.3441\n",
      "Epoch 30/30\n",
      "363/363 [==============================] - 0s 617us/step - loss: 0.3424 - val_loss: 0.3385\n"
     ]
    }
   ],
   "source": [
    "tensorboard_cb = keras.callbacks.TensorBoard(run_logdir)\n",
    "history = model.fit(X_train, y_train, epochs=30,\n",
    "                    validation_data=(X_valid,y_valid),\n",
    "                    callbacks=[tensorboard_cb])"
   ]
  },
  {
   "cell_type": "code",
   "execution_count": null,
   "metadata": {},
   "outputs": [],
   "source": []
  }
 ],
 "metadata": {
  "kernelspec": {
   "display_name": "Python 3",
   "language": "python",
   "name": "python3"
  },
  "language_info": {
   "codemirror_mode": {
    "name": "ipython",
    "version": 3
   },
   "file_extension": ".py",
   "mimetype": "text/x-python",
   "name": "python",
   "nbconvert_exporter": "python",
   "pygments_lexer": "ipython3",
   "version": "3.8.5"
  }
 },
 "nbformat": 4,
 "nbformat_minor": 4
}
