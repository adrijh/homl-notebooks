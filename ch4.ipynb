{
 "cells": [
  {
   "cell_type": "markdown",
   "metadata": {},
   "source": [
    "# Softmax Batch Gradient Descent"
   ]
  },
  {
   "cell_type": "code",
   "execution_count": 4,
   "metadata": {},
   "outputs": [],
   "source": [
    "import pandas as pd\n",
    "import numpy as np\n",
    "import matplotlib.pyplot as plt\n",
    "from sklearn import datasets"
   ]
  },
  {
   "cell_type": "code",
   "execution_count": 5,
   "metadata": {},
   "outputs": [
    {
     "name": "stdout",
     "output_type": "stream",
     "text": [
      "Keys:  ['data', 'target', 'frame', 'target_names', 'DESCR', 'feature_names', 'filename']\n"
     ]
    }
   ],
   "source": [
    "iris = datasets.load_iris()\n",
    "print('Keys: ',list(iris.keys()))"
   ]
  },
  {
   "cell_type": "code",
   "execution_count": 6,
   "metadata": {},
   "outputs": [],
   "source": [
    "Xt = iris['data']\n",
    "yt = iris['target']\n",
    "ones = np.ones((Xt.shape[0],1))\n",
    "Xt = np.concatenate((ones,Xt), axis=1) #150x5"
   ]
  },
  {
   "cell_type": "code",
   "execution_count": 7,
   "metadata": {},
   "outputs": [],
   "source": [
    "from sklearn.utils import shuffle\n",
    "\n",
    "Xt, yt = shuffle(Xt,yt, random_state=0)"
   ]
  },
  {
   "cell_type": "code",
   "execution_count": 8,
   "metadata": {},
   "outputs": [],
   "source": [
    "X, y, X_test, y_test = Xt[:100], yt[:100], Xt[100:], yt[100:]"
   ]
  },
  {
   "cell_type": "code",
   "execution_count": 9,
   "metadata": {},
   "outputs": [],
   "source": [
    "## HotEncode y\n",
    "def hotenc(M):\n",
    "    M_h = np.zeros((M.shape[0],3))\n",
    "    for i in range(M_h.shape[0]):\n",
    "        if M[i] == 0:\n",
    "            M_h[i,0] = 1\n",
    "        if M[i] == 1:\n",
    "            M_h[i,1] = 1\n",
    "        if M[i] == 2:\n",
    "            M_h[i,2] = 1\n",
    "    return M_h"
   ]
  },
  {
   "cell_type": "code",
   "execution_count": 10,
   "metadata": {},
   "outputs": [],
   "source": [
    "y_h = hotenc(y)"
   ]
  },
  {
   "cell_type": "code",
   "execution_count": 11,
   "metadata": {},
   "outputs": [],
   "source": [
    "def smp(X,Theta):\n",
    "    s = X @ Theta\n",
    "    exp1 = np.exp(s)\n",
    "    exp2 = exp1.sum(axis=1)\n",
    "    exp3 = np.stack((exp2,exp2,exp2),axis=1)\n",
    "    return exp1/exp3"
   ]
  },
  {
   "cell_type": "code",
   "execution_count": 12,
   "metadata": {},
   "outputs": [],
   "source": [
    "def smcost(y_h,p):\n",
    "    m = y_h.shape[0]\n",
    "    A = y_h *np.log(p)\n",
    "    B = A.sum(axis=1)\n",
    "    return -(1/m)*sum(B)"
   ]
  },
  {
   "cell_type": "code",
   "execution_count": 28,
   "metadata": {},
   "outputs": [],
   "source": [
    "m = X.shape[0]\n",
    "n = 1000\n",
    "alpha = 0.1\n",
    "Theta = np.random.randn(X.shape[1],3) #5x3\n",
    "J_test_ls = []\n",
    "Theta_ls = []\n",
    "for i in range(n):\n",
    "    \n",
    "    p = smp(X,Theta)\n",
    "    p_test = smp(X_test,Theta)\n",
    "    J_test = smcost(y_h,p)\n",
    "    GJ = (1/m)* ((p-y_h).T @ X)\n",
    "    Theta = Theta - alpha* GJ.T\n",
    "    ## Early stopping:\n",
    "    J_test_ls.append(J_test)\n",
    "    Theta_ls.append(Theta)\n",
    "    if n>=10:\n",
    "        if J_test_ls[n]-J_test_ls[n-1] \n",
    "    \n",
    "    "
   ]
  },
  {
   "cell_type": "markdown",
   "metadata": {},
   "source": [
    "### TO DO: EARLY STOPPING"
   ]
  },
  {
   "cell_type": "code",
   "execution_count": 17,
   "metadata": {},
   "outputs": [],
   "source": [
    "p = smp(X_test,Theta)"
   ]
  },
  {
   "cell_type": "code",
   "execution_count": 18,
   "metadata": {},
   "outputs": [],
   "source": [
    "y_pred = np.argmax(p,axis=1)"
   ]
  },
  {
   "cell_type": "code",
   "execution_count": 24,
   "metadata": {},
   "outputs": [
    {
     "name": "stdout",
     "output_type": "stream",
     "text": [
      "2\n"
     ]
    }
   ],
   "source": [
    "errors = sum(y_test != y_pred)\n",
    "print(errors)"
   ]
  },
  {
   "cell_type": "code",
   "execution_count": null,
   "metadata": {},
   "outputs": [],
   "source": []
  }
 ],
 "metadata": {
  "kernelspec": {
   "display_name": "Python 3",
   "language": "python",
   "name": "python3"
  },
  "language_info": {
   "codemirror_mode": {
    "name": "ipython",
    "version": 3
   },
   "file_extension": ".py",
   "mimetype": "text/x-python",
   "name": "python",
   "nbconvert_exporter": "python",
   "pygments_lexer": "ipython3",
   "version": "3.8.5"
  }
 },
 "nbformat": 4,
 "nbformat_minor": 4
}
