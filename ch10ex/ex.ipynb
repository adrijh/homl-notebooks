{
 "cells": [
  {
   "cell_type": "code",
   "execution_count": 15,
   "metadata": {},
   "outputs": [],
   "source": [
    "import tensorflow as tf\n",
    "from tensorflow import keras\n",
    "import numpy as np\n",
    "import matplotlib.pyplot as plt"
   ]
  },
  {
   "cell_type": "markdown",
   "metadata": {},
   "source": [
    "## Tensorboard Directory"
   ]
  },
  {
   "cell_type": "code",
   "execution_count": 16,
   "metadata": {},
   "outputs": [],
   "source": [
    "import os\n",
    "import time\n",
    "root_logdir = os.path.join(os.curdir, \"my_logs\")\n",
    "\n",
    "def get_run_logdir():\n",
    "    run_id = time.strftime(\"run_%Y_%m_%d-%H_%M_%S\")\n",
    "    return os.path.join(root_logdir, run_id)\n",
    "\n",
    "run_logdir = get_run_logdir()"
   ]
  },
  {
   "cell_type": "markdown",
   "metadata": {},
   "source": [
    "## Importing Data"
   ]
  },
  {
   "cell_type": "code",
   "execution_count": 17,
   "metadata": {},
   "outputs": [],
   "source": [
    "mnist_data = keras.datasets.mnist.load_data()"
   ]
  },
  {
   "cell_type": "code",
   "execution_count": 18,
   "metadata": {},
   "outputs": [],
   "source": [
    "X_train_full = mnist_data[0][0]/255\n",
    "y_train_full = mnist_data[0][1]\n",
    "X_test = mnist_data[1][0]/255\n",
    "y_test = mnist_data[1][1]"
   ]
  },
  {
   "cell_type": "code",
   "execution_count": 19,
   "metadata": {},
   "outputs": [],
   "source": [
    "from sklearn.model_selection import train_test_split\n",
    "\n",
    "X_train, X_val, y_train, y_val = train_test_split(X_train_full, y_train_full, test_size=10000)"
   ]
  },
  {
   "cell_type": "code",
   "execution_count": 20,
   "metadata": {},
   "outputs": [
    {
     "data": {
      "text/plain": [
       "(50000, 28, 28)"
      ]
     },
     "execution_count": 20,
     "metadata": {},
     "output_type": "execute_result"
    }
   ],
   "source": [
    "X_train.shape"
   ]
  },
  {
   "cell_type": "code",
   "execution_count": 21,
   "metadata": {},
   "outputs": [
    {
     "data": {
      "text/plain": [
       "<matplotlib.image.AxesImage at 0x7f34129963d0>"
      ]
     },
     "execution_count": 21,
     "metadata": {},
     "output_type": "execute_result"
    },
    {
     "data": {
      "image/png": "[encoded data removed]",
      "text/plain": [
       "<Figure size 432x288 with 1 Axes>"
      ]
     },
     "metadata": {
      "needs_background": "light"
     },
     "output_type": "display_data"
    }
   ],
   "source": [
    "plt.imshow(X_train[0], cmap='binary')"
   ]
  },
  {
   "cell_type": "markdown",
   "metadata": {},
   "source": [
    "## Creating our Model (Keras Wrapper)"
   ]
  },
  {
   "cell_type": "code",
   "execution_count": 22,
   "metadata": {},
   "outputs": [],
   "source": [
    "# def build_model(n_hidden=1,n_neurons=100, learning_rate=0.01):\n",
    "#     model = keras.models.Sequential()\n",
    "#     model.add(keras.layers.Flatten(input_shape=[28,28]))\n",
    "#     model.add(keras.layers.Dense(300, activation=\"relu\"))\n",
    "#     for layer in range(n_hidden):\n",
    "#         model.add(keras.layers.Dense(n_neurons, activation=\"relu\"))\n",
    "#     model.add(keras.layers.Dense(10, activation=\"softmax\"))\n",
    "#     optimizer = keras.optimizers.SGD(lr=learning_rate)\n",
    "#     model.compile(loss=\"sparse_categorical_crossentropy\",\n",
    "#               optimizer=optimizer,\n",
    "#               metrics=[\"accuracy\"])\n",
    "#     return model"
   ]
  },
  {
   "cell_type": "code",
   "execution_count": 23,
   "metadata": {},
   "outputs": [],
   "source": [
    "# keras_reg = keras.wrappers.scikit_learn.KerasClassifier(build_model)"
   ]
  },
  {
   "cell_type": "markdown",
   "metadata": {},
   "source": [
    "## Callbacks"
   ]
  },
  {
   "cell_type": "code",
   "execution_count": 29,
   "metadata": {},
   "outputs": [],
   "source": [
    "K = keras.backend\n",
    "\n",
    "class ExponentialLearningRate(keras.callbacks.Callback):\n",
    "    def __init__(self, factor):\n",
    "        self.factor = factor\n",
    "        self.rates = []\n",
    "        self.losses = []\n",
    "    def on_batch_end(self, batch, logs):\n",
    "        self.rates.append(K.get_value(self.model.optimizer.lr))\n",
    "        self.losses.append(logs[\"loss\"])\n",
    "        K.set_value(self.model.optimizer.lr, self.model.optimizer.lr * self.factor)"
   ]
  },
  {
   "cell_type": "code",
   "execution_count": 44,
   "metadata": {},
   "outputs": [],
   "source": [
    "checkpoint_cb = keras.callbacks.ModelCheckpoint('mnist_mlp.h5', save_best_only=True)\n",
    "early_stopping_cb = keras.callbacks.EarlyStopping(patience=20)\n",
    "tensorboard_cb = keras.callbacks.TensorBoard(run_logdir)\n",
    "expon_lr = ExponentialLearningRate(factor=1.005)"
   ]
  },
  {
   "cell_type": "markdown",
   "metadata": {},
   "source": [
    "## Creating our Model"
   ]
  },
  {
   "cell_type": "code",
   "execution_count": 31,
   "metadata": {},
   "outputs": [],
   "source": [
    "model = keras.models.Sequential()\n",
    "model.add(keras.layers.Flatten(input_shape=[28,28]))\n",
    "model.add(keras.layers.Dense(300, activation=\"relu\"))\n",
    "model.add(keras.layers.Dense(100, activation=\"relu\"))\n",
    "model.add(keras.layers.Dense(10, activation=\"softmax\"))"
   ]
  },
  {
   "cell_type": "code",
   "execution_count": 32,
   "metadata": {},
   "outputs": [],
   "source": [
    "model.compile(loss=\"sparse_categorical_crossentropy\", optimizer=keras.optimizers.SGD(lr=1e-3), metrics=[\"accuracy\"])"
   ]
  },
  {
   "cell_type": "markdown",
   "metadata": {},
   "source": [
    "## Testing learning rates"
   ]
  },
  {
   "cell_type": "code",
   "execution_count": 33,
   "metadata": {},
   "outputs": [
    {
     "name": "stdout",
     "output_type": "stream",
     "text": [
      "1563/1563 [==============================] - 3s 2ms/step - loss: nan - accuracy: 0.5096 - val_loss: nan - val_accuracy: 0.0975\n"
     ]
    }
   ],
   "source": [
    "history = model.fit(X_train, y_train, epochs=1, validation_data=(X_val,y_val), callbacks=[expon_lr])"
   ]
  },
  {
   "cell_type": "code",
   "execution_count": 35,
   "metadata": {},
   "outputs": [
    {
     "data": {
      "text/plain": [
       "Text(0, 0.5, 'Loss')"
      ]
     },
     "execution_count": 35,
     "metadata": {},
     "output_type": "execute_result"
    },
    {
     "data": {
      "image/png": "[encoded data removed]",
      "text/plain": [
       "<Figure size 432x288 with 1 Axes>"
      ]
     },
     "metadata": {
      "needs_background": "light"
     },
     "output_type": "display_data"
    }
   ],
   "source": [
    "plt.plot(expon_lr.rates, expon_lr.losses)\n",
    "plt.gca().set_xscale('log')\n",
    "plt.hlines(min(expon_lr.losses), min(expon_lr.rates), max(expon_lr.rates))\n",
    "plt.axis([min(expon_lr.rates), max(expon_lr.rates), 0, expon_lr.losses[0]])\n",
    "plt.grid()\n",
    "plt.xlabel(\"Learning rate\")\n",
    "plt.ylabel(\"Loss\")"
   ]
  },
  {
   "cell_type": "markdown",
   "metadata": {},
   "source": [
    "## Fitting the Final Model"
   ]
  },
  {
   "cell_type": "code",
   "execution_count": 36,
   "metadata": {},
   "outputs": [],
   "source": [
    "keras.backend.clear_session()"
   ]
  },
  {
   "cell_type": "code",
   "execution_count": 37,
   "metadata": {},
   "outputs": [],
   "source": [
    "model = keras.models.Sequential([\n",
    "    keras.layers.Flatten(input_shape=[28, 28]),\n",
    "    keras.layers.Dense(300, activation=\"relu\"),\n",
    "    keras.layers.Dense(100, activation=\"relu\"),\n",
    "    keras.layers.Dense(10, activation=\"softmax\")\n",
    "])"
   ]
  },
  {
   "cell_type": "code",
   "execution_count": 38,
   "metadata": {},
   "outputs": [],
   "source": [
    "model.compile(loss=\"sparse_categorical_crossentropy\",\n",
    "              optimizer=keras.optimizers.SGD(lr=3e-1),\n",
    "              metrics=[\"accuracy\"])"
   ]
  },
  {
   "cell_type": "code",
   "execution_count": 45,
   "metadata": {},
   "outputs": [
    {
     "name": "stdout",
     "output_type": "stream",
     "text": [
      "Epoch 1/100\n",
      "1563/1563 [==============================] - 3s 2ms/step - loss: 0.0292 - accuracy: 0.9903 - val_loss: 0.1455 - val_accuracy: 0.9665\n",
      "Epoch 2/100\n",
      "1563/1563 [==============================] - 2s 2ms/step - loss: 0.0213 - accuracy: 0.9931 - val_loss: 0.0844 - val_accuracy: 0.9796\n",
      "Epoch 3/100\n",
      "1563/1563 [==============================] - 2s 1ms/step - loss: 0.0149 - accuracy: 0.9952 - val_loss: 0.1495 - val_accuracy: 0.9672\n",
      "Epoch 4/100\n",
      "1563/1563 [==============================] - 2s 1ms/step - loss: 0.0166 - accuracy: 0.9946 - val_loss: 0.0918 - val_accuracy: 0.9795\n",
      "Epoch 5/100\n",
      "1563/1563 [==============================] - 2s 1ms/step - loss: 0.0146 - accuracy: 0.9950 - val_loss: 0.1028 - val_accuracy: 0.9765\n",
      "Epoch 6/100\n",
      "1563/1563 [==============================] - 2s 2ms/step - loss: 0.0085 - accuracy: 0.9971 - val_loss: 0.4344 - val_accuracy: 0.9302\n",
      "Epoch 7/100\n",
      "1563/1563 [==============================] - 2s 1ms/step - loss: 0.0050 - accuracy: 0.9985 - val_loss: 0.0843 - val_accuracy: 0.9837\n",
      "Epoch 8/100\n",
      "1563/1563 [==============================] - 2s 1ms/step - loss: 0.0077 - accuracy: 0.9976 - val_loss: 0.0909 - val_accuracy: 0.9821\n",
      "Epoch 9/100\n",
      "1563/1563 [==============================] - 2s 1ms/step - loss: 0.0050 - accuracy: 0.9983 - val_loss: 0.0898 - val_accuracy: 0.9836\n",
      "Epoch 10/100\n",
      "1563/1563 [==============================] - 2s 1ms/step - loss: 0.0016 - accuracy: 0.9995 - val_loss: 0.0905 - val_accuracy: 0.9822\n",
      "Epoch 11/100\n",
      "1563/1563 [==============================] - 2s 2ms/step - loss: 0.0018 - accuracy: 0.9996 - val_loss: 0.0945 - val_accuracy: 0.9836\n",
      "Epoch 12/100\n",
      "1563/1563 [==============================] - 2s 1ms/step - loss: 0.0028 - accuracy: 0.9993 - val_loss: 0.0909 - val_accuracy: 0.9838\n",
      "Epoch 13/100\n",
      "1563/1563 [==============================] - 2s 1ms/step - loss: 0.0019 - accuracy: 0.9996 - val_loss: 0.0953 - val_accuracy: 0.9831\n",
      "Epoch 14/100\n",
      "1563/1563 [==============================] - 2s 2ms/step - loss: 0.0019 - accuracy: 0.9995 - val_loss: 0.0923 - val_accuracy: 0.9841\n",
      "Epoch 15/100\n",
      "1563/1563 [==============================] - 2s 1ms/step - loss: 2.8892e-04 - accuracy: 0.9999 - val_loss: 0.0930 - val_accuracy: 0.9833\n",
      "Epoch 16/100\n",
      "1563/1563 [==============================] - 2s 1ms/step - loss: 1.0912e-04 - accuracy: 1.0000 - val_loss: 0.0936 - val_accuracy: 0.9841\n",
      "Epoch 17/100\n",
      "1563/1563 [==============================] - 2s 2ms/step - loss: 6.7966e-05 - accuracy: 1.0000 - val_loss: 0.0941 - val_accuracy: 0.9840\n",
      "Epoch 18/100\n",
      "1563/1563 [==============================] - 2s 1ms/step - loss: 5.6785e-05 - accuracy: 1.0000 - val_loss: 0.0953 - val_accuracy: 0.9839\n",
      "Epoch 19/100\n",
      "1563/1563 [==============================] - 2s 1ms/step - loss: 5.0132e-05 - accuracy: 1.0000 - val_loss: 0.0960 - val_accuracy: 0.9841\n",
      "Epoch 20/100\n",
      "1563/1563 [==============================] - 2s 1ms/step - loss: 4.5207e-05 - accuracy: 1.0000 - val_loss: 0.0968 - val_accuracy: 0.9839\n",
      "Epoch 21/100\n",
      "1563/1563 [==============================] - 2s 1ms/step - loss: 4.1257e-05 - accuracy: 1.0000 - val_loss: 0.0973 - val_accuracy: 0.9840\n",
      "Epoch 22/100\n",
      "1563/1563 [==============================] - 2s 1ms/step - loss: 3.8195e-05 - accuracy: 1.0000 - val_loss: 0.0979 - val_accuracy: 0.9839\n",
      "Epoch 23/100\n",
      "1563/1563 [==============================] - 2s 2ms/step - loss: 3.5614e-05 - accuracy: 1.0000 - val_loss: 0.0984 - val_accuracy: 0.9839\n",
      "Epoch 24/100\n",
      "1563/1563 [==============================] - 2s 2ms/step - loss: 3.3346e-05 - accuracy: 1.0000 - val_loss: 0.0990 - val_accuracy: 0.9839\n",
      "Epoch 25/100\n",
      "1563/1563 [==============================] - 2s 1ms/step - loss: 3.1521e-05 - accuracy: 1.0000 - val_loss: 0.0993 - val_accuracy: 0.9839\n",
      "Epoch 26/100\n",
      "1563/1563 [==============================] - 2s 1ms/step - loss: 2.9831e-05 - accuracy: 1.0000 - val_loss: 0.0997 - val_accuracy: 0.9839\n",
      "Epoch 27/100\n",
      "1563/1563 [==============================] - 2s 2ms/step - loss: 2.8270e-05 - accuracy: 1.0000 - val_loss: 0.0999 - val_accuracy: 0.9839\n"
     ]
    }
   ],
   "source": [
    "history = model.fit(X_train, y_train, epochs=100,\n",
    "                    validation_data=(X_val, y_val),\n",
    "                    callbacks=[checkpoint_cb, early_stopping_cb, tensorboard_cb])"
   ]
  },
  {
   "cell_type": "code",
   "execution_count": 46,
   "metadata": {},
   "outputs": [
    {
     "name": "stdout",
     "output_type": "stream",
     "text": [
      "313/313 [==============================] - 0s 808us/step - loss: 0.1001 - accuracy: 0.9800\n"
     ]
    },
    {
     "data": {
      "text/plain": [
       "[0.10014127939939499, 0.9800000190734863]"
      ]
     },
     "execution_count": 46,
     "metadata": {},
     "output_type": "execute_result"
    }
   ],
   "source": [
    "model = keras.models.load_model(\"mnist_mlp.h5\")\n",
    "model.evaluate(X_test, y_test)"
   ]
  },
  {
   "cell_type": "markdown",
   "metadata": {},
   "source": [
    "## Fitting the Model (Keras Wrapper)"
   ]
  },
  {
   "cell_type": "code",
   "execution_count": 20,
   "metadata": {},
   "outputs": [],
   "source": [
    "# from scipy.stats import reciprocal \n",
    "# from sklearn.model_selection import GridSearchCV\n",
    "\n",
    "# param_distribs = {\n",
    "#     \"n_hidden\":[1],\n",
    "#     \"n_neurons\": [100],\n",
    "#     \"learning_rate\": [0.001]\n",
    "# }"
   ]
  },
  {
   "cell_type": "code",
   "execution_count": 21,
   "metadata": {
    "collapsed": true,
    "jupyter": {
     "outputs_hidden": true
    }
   },
   "outputs": [
    {
     "name": "stdout",
     "output_type": "stream",
     "text": [
      "Fitting 3 folds for each of 1 candidates, totalling 3 fits\n"
     ]
    },
    {
     "name": "stderr",
     "output_type": "stream",
     "text": [
      "[Parallel(n_jobs=-1)]: Using backend LokyBackend with 4 concurrent workers.\n",
      "[Parallel(n_jobs=-1)]: Done   3 out of   3 | elapsed:  1.3min finished\n"
     ]
    },
    {
     "name": "stdout",
     "output_type": "stream",
     "text": [
      "Epoch 1/30\n",
      "1563/1563 [==============================] - 3s 2ms/step - loss: 2.0553 - accuracy: 0.3441 - val_loss: 1.2602 - val_accuracy: 0.7598\n",
      "Epoch 2/30\n",
      "1563/1563 [==============================] - 2s 1ms/step - loss: 1.0865 - accuracy: 0.7784 - val_loss: 0.7436 - val_accuracy: 0.8316\n",
      "Epoch 3/30\n",
      "1563/1563 [==============================] - 2s 1ms/step - loss: 0.6840 - accuracy: 0.8397 - val_loss: 0.5649 - val_accuracy: 0.8592\n",
      "Epoch 4/30\n",
      "1563/1563 [==============================] - 2s 1ms/step - loss: 0.5391 - accuracy: 0.8646 - val_loss: 0.4796 - val_accuracy: 0.8764\n",
      "Epoch 5/30\n",
      "1563/1563 [==============================] - 2s 1ms/step - loss: 0.4625 - accuracy: 0.8803 - val_loss: 0.4309 - val_accuracy: 0.8860\n",
      "Epoch 6/30\n",
      "1563/1563 [==============================] - 2s 1ms/step - loss: 0.4157 - accuracy: 0.8874 - val_loss: 0.3988 - val_accuracy: 0.8941\n",
      "Epoch 7/30\n",
      "1563/1563 [==============================] - 2s 1ms/step - loss: 0.3907 - accuracy: 0.8944 - val_loss: 0.3758 - val_accuracy: 0.8991\n",
      "Epoch 8/30\n",
      "1563/1563 [==============================] - 2s 1ms/step - loss: 0.3593 - accuracy: 0.9030 - val_loss: 0.3584 - val_accuracy: 0.9037\n",
      "Epoch 9/30\n",
      "1563/1563 [==============================] - 2s 1ms/step - loss: 0.3479 - accuracy: 0.9020 - val_loss: 0.3445 - val_accuracy: 0.9063\n",
      "Epoch 10/30\n",
      "1563/1563 [==============================] - 2s 1ms/step - loss: 0.3402 - accuracy: 0.9061 - val_loss: 0.3325 - val_accuracy: 0.9092\n",
      "Epoch 11/30\n",
      "1563/1563 [==============================] - 2s 1ms/step - loss: 0.3222 - accuracy: 0.9091 - val_loss: 0.3223 - val_accuracy: 0.9128\n",
      "Epoch 12/30\n",
      "1563/1563 [==============================] - 2s 1ms/step - loss: 0.3127 - accuracy: 0.9112 - val_loss: 0.3145 - val_accuracy: 0.9148\n",
      "Epoch 13/30\n",
      "1563/1563 [==============================] - 2s 1ms/step - loss: 0.3058 - accuracy: 0.9114 - val_loss: 0.3066 - val_accuracy: 0.9163\n",
      "Epoch 14/30\n",
      "1563/1563 [==============================] - 2s 1ms/step - loss: 0.2897 - accuracy: 0.9174 - val_loss: 0.2998 - val_accuracy: 0.9182\n",
      "Epoch 15/30\n",
      "1563/1563 [==============================] - 2s 1ms/step - loss: 0.2850 - accuracy: 0.9190 - val_loss: 0.2941 - val_accuracy: 0.9196\n",
      "Epoch 16/30\n",
      "1563/1563 [==============================] - 2s 1ms/step - loss: 0.2788 - accuracy: 0.9207 - val_loss: 0.2879 - val_accuracy: 0.9215\n",
      "Epoch 17/30\n",
      "1563/1563 [==============================] - 2s 1ms/step - loss: 0.2678 - accuracy: 0.9230 - val_loss: 0.2825 - val_accuracy: 0.9227\n",
      "Epoch 18/30\n",
      "1563/1563 [==============================] - 2s 2ms/step - loss: 0.2666 - accuracy: 0.9240 - val_loss: 0.2782 - val_accuracy: 0.9241\n",
      "Epoch 19/30\n",
      "1563/1563 [==============================] - 2s 1ms/step - loss: 0.2611 - accuracy: 0.9266 - val_loss: 0.2733 - val_accuracy: 0.9246\n",
      "Epoch 20/30\n",
      "1563/1563 [==============================] - 2s 2ms/step - loss: 0.2519 - accuracy: 0.9277 - val_loss: 0.2693 - val_accuracy: 0.9270\n",
      "Epoch 21/30\n",
      "1563/1563 [==============================] - 2s 2ms/step - loss: 0.2480 - accuracy: 0.9300 - val_loss: 0.2649 - val_accuracy: 0.9265\n",
      "Epoch 22/30\n",
      "1563/1563 [==============================] - 2s 2ms/step - loss: 0.2427 - accuracy: 0.9306 - val_loss: 0.2608 - val_accuracy: 0.9284\n",
      "Epoch 23/30\n",
      "1563/1563 [==============================] - 2s 1ms/step - loss: 0.2430 - accuracy: 0.9301 - val_loss: 0.2569 - val_accuracy: 0.9288\n",
      "Epoch 24/30\n",
      "1563/1563 [==============================] - 2s 1ms/step - loss: 0.2353 - accuracy: 0.9340 - val_loss: 0.2535 - val_accuracy: 0.9306\n",
      "Epoch 25/30\n",
      "1563/1563 [==============================] - 2s 2ms/step - loss: 0.2368 - accuracy: 0.9326 - val_loss: 0.2503 - val_accuracy: 0.9322\n",
      "Epoch 26/30\n",
      "1563/1563 [==============================] - 2s 2ms/step - loss: 0.2281 - accuracy: 0.9359 - val_loss: 0.2474 - val_accuracy: 0.9330\n",
      "Epoch 27/30\n",
      "1563/1563 [==============================] - 2s 1ms/step - loss: 0.2326 - accuracy: 0.9341 - val_loss: 0.2437 - val_accuracy: 0.9342\n",
      "Epoch 28/30\n",
      "1563/1563 [==============================] - 2s 2ms/step - loss: 0.2158 - accuracy: 0.9387 - val_loss: 0.2409 - val_accuracy: 0.9338\n",
      "Epoch 29/30\n",
      "1563/1563 [==============================] - 2s 2ms/step - loss: 0.2213 - accuracy: 0.9366 - val_loss: 0.2382 - val_accuracy: 0.9344\n",
      "Epoch 30/30\n",
      "1563/1563 [==============================] - 2s 2ms/step - loss: 0.2153 - accuracy: 0.9386 - val_loss: 0.2348 - val_accuracy: 0.9362\n"
     ]
    },
    {
     "data": {
      "text/plain": [
       "GridSearchCV(cv=3,\n",
       "             estimator=<tensorflow.python.keras.wrappers.scikit_learn.KerasClassifier object at 0x7fd5c6d87040>,\n",
       "             n_jobs=-1,\n",
       "             param_grid={'learning_rate': [0.001], 'n_hidden': [1],\n",
       "                         'n_neurons': [100]},\n",
       "             verbose=2)"
      ]
     },
     "execution_count": 21,
     "metadata": {},
     "output_type": "execute_result"
    }
   ],
   "source": [
    "# grid_search_cv = GridSearchCV(keras_reg, param_distribs, n_jobs=-1,cv=3,verbose=2)\n",
    "# grid_search_cv.fit(X_train, y_train, epochs=30, validation_data=(X_val,y_val),\n",
    "#                     callbacks=[checkpoint_cb, early_stopping_cb, tensorboard_cb])"
   ]
  },
  {
   "cell_type": "code",
   "execution_count": null,
   "metadata": {},
   "outputs": [],
   "source": [
    "## keras = keras.models.load_model('mnist_mlp.h5')"
   ]
  },
  {
   "cell_type": "code",
   "execution_count": 17,
   "metadata": {},
   "outputs": [
    {
     "ename": "AttributeError",
     "evalue": "'RandomizedSearchCV' object has no attribute 'best_estimator_'",
     "output_type": "error",
     "traceback": [
      "\u001b[0;31m---------------------------------------------------------------------------\u001b[0m",
      "\u001b[0;31mAttributeError\u001b[0m                            Traceback (most recent call last)",
      "\u001b[0;32m<ipython-input-17-3b40e07bb81d>\u001b[0m in \u001b[0;36m<module>\u001b[0;34m\u001b[0m\n\u001b[0;32m----> 1\u001b[0;31m \u001b[0mrnd_search_cv\u001b[0m\u001b[0;34m.\u001b[0m\u001b[0mbest_estimator_\u001b[0m\u001b[0;34m\u001b[0m\u001b[0;34m\u001b[0m\u001b[0m\n\u001b[0m",
      "\u001b[0;31mAttributeError\u001b[0m: 'RandomizedSearchCV' object has no attribute 'best_estimator_'"
     ]
    }
   ],
   "source": [
    "# grid_search_cv.best_estimator_"
   ]
  },
  {
   "cell_type": "code",
   "execution_count": 31,
   "metadata": {},
   "outputs": [
    {
     "data": {
      "text/plain": [
       "0.9769"
      ]
     },
     "execution_count": 31,
     "metadata": {},
     "output_type": "execute_result"
    }
   ],
   "source": [
    "# from sklearn.metrics import accuracy_score\n",
    "\n",
    "# y_pred = [np.argmax(instance) for instance in keras_reg.predict(X_test)]\n",
    "# accuracy_score(y_pred, y_test)"
   ]
  },
  {
   "cell_type": "code",
   "execution_count": 34,
   "metadata": {},
   "outputs": [],
   "source": [
    "# import pandas as pd\n",
    "\n",
    "# pd.DataFrame(history.history).plot()\n",
    "# plt.grid(True)"
   ]
  },
  {
   "cell_type": "markdown",
   "metadata": {},
   "source": [
    "## Saving the Model"
   ]
  },
  {
   "cell_type": "code",
   "execution_count": 14,
   "metadata": {},
   "outputs": [],
   "source": [
    "model.save('mnist_mlp.h5')"
   ]
  },
  {
   "cell_type": "code",
   "execution_count": null,
   "metadata": {},
   "outputs": [],
   "source": [
    "# model = keras.models.load_model('mnist_mlp.h5')"
   ]
  },
  {
   "cell_type": "markdown",
   "metadata": {},
   "source": [
    "## Loading Tensorboard"
   ]
  },
  {
   "cell_type": "code",
   "execution_count": 47,
   "metadata": {},
   "outputs": [
    {
     "data": {
      "text/html": [
       "\n",
       "      <iframe id=\"tensorboard-frame-ee1659ea655115e0\" width=\"100%\" height=\"800\" frameborder=\"0\">\n",
       "      </iframe>\n",
       "      <script>\n",
       "        (function() {\n",
       "          const frame = document.getElementById(\"tensorboard-frame-ee1659ea655115e0\");\n",
       "          const url = new URL(\"/\", window.location);\n",
       "          const port = 6006;\n",
       "          if (port) {\n",
       "            url.port = port;\n",
       "          }\n",
       "          frame.src = url;\n",
       "        })();\n",
       "      </script>\n",
       "    "
      ],
      "text/plain": [
       "<IPython.core.display.HTML object>"
      ]
     },
     "metadata": {},
     "output_type": "display_data"
    }
   ],
   "source": [
    "%load_ext tensorboard\n",
    "%tensorboard --logdir=./my_logs --port=6006"
   ]
  },
  {
   "cell_type": "code",
   "execution_count": null,
   "metadata": {},
   "outputs": [],
   "source": []
  }
 ],
 "metadata": {
  "kernelspec": {
   "display_name": "Python 3",
   "language": "python",
   "name": "python3"
  },
  "language_info": {
   "codemirror_mode": {
    "name": "ipython",
    "version": 3
   },
   "file_extension": ".py",
   "mimetype": "text/x-python",
   "name": "python",
   "nbconvert_exporter": "python",
   "pygments_lexer": "ipython3",
   "version": "3.8.5"
  }
 },
 "nbformat": 4,
 "nbformat_minor": 4
}
